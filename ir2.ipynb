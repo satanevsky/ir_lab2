{
 "cells": [
  {
   "cell_type": "markdown",
   "metadata": {},
   "source": [
    "Cобственно, считываем скаченные данные"
   ]
  },
  {
   "cell_type": "code",
   "execution_count": 1,
   "metadata": {},
   "outputs": [],
   "source": [
    "import ujson\n",
    "with open('ir_lab2/data.json') as f:\n",
    "    data = ujson.loads(f.read().replace('\\n', ''))"
   ]
  },
  {
   "cell_type": "markdown",
   "metadata": {},
   "source": [
    "Cтроим словарь для получения документа по урлу"
   ]
  },
  {
   "cell_type": "code",
   "execution_count": 2,
   "metadata": {},
   "outputs": [],
   "source": [
    "data_item_by_url = {el['url']: el for el in data}"
   ]
  },
  {
   "cell_type": "code",
   "execution_count": 3,
   "metadata": {},
   "outputs": [
    {
     "data": {
      "text/plain": [
       "20023"
      ]
     },
     "execution_count": 3,
     "metadata": {},
     "output_type": "execute_result"
    }
   ],
   "source": [
    "len(data)"
   ]
  },
  {
   "cell_type": "markdown",
   "metadata": {},
   "source": [
    "Cтроим граф. При этом, чтобы мы могли нормально ранжировать вершины, требуем, чтобы обу вершины ребра были скачены."
   ]
  },
  {
   "cell_type": "code",
   "execution_count": 4,
   "metadata": {},
   "outputs": [],
   "source": [
    "import networkx"
   ]
  },
  {
   "cell_type": "code",
   "execution_count": 5,
   "metadata": {},
   "outputs": [],
   "source": [
    "graph = networkx.DiGraph()"
   ]
  },
  {
   "cell_type": "code",
   "execution_count": 6,
   "metadata": {},
   "outputs": [],
   "source": [
    "for el in data:\n",
    "    graph.add_node(el['url'])\n",
    "    for el_out in el['outgoing_links']:\n",
    "        if el_out in data_item_by_url:\n",
    "            graph.add_edge(el['url'], el_out)"
   ]
  },
  {
   "cell_type": "markdown",
   "metadata": {},
   "source": [
    "Считаем pagerank и HITS."
   ]
  },
  {
   "cell_type": "code",
   "execution_count": 7,
   "metadata": {},
   "outputs": [],
   "source": [
    "pagerank_85 = networkx.pagerank(graph, alpha=0.85)\n",
    "pagerank_95 = networkx.pagerank(graph, alpha=0.95)\n",
    "pagerank_50 = networkx.pagerank(graph, alpha=0.50)\n",
    "pagerank_30 = networkx.pagerank(graph, alpha=0.30)\n",
    "hits_hub, hits_authority = networkx.hits(graph)"
   ]
  },
  {
   "cell_type": "markdown",
   "metadata": {},
   "source": [
    "Функция для форматирования результата."
   ]
  },
  {
   "cell_type": "code",
   "execution_count": 8,
   "metadata": {},
   "outputs": [],
   "source": [
    "def render_best_docs(possible_docs, rank):\n",
    "    ranked_docs = [(doc, rank(doc)) for doc in possible_docs]\n",
    "    for i, (url, rank) in enumerate(sorted(ranked_docs, key=lambda x: x[1], reverse=True)[:10]):\n",
    "        data_item = data_item_by_url[url]\n",
    "        print(data_item['title'], rank, '\\n', url, '\\n', data_item['snippet'], '\\n')"
   ]
  },
  {
   "cell_type": "markdown",
   "metadata": {},
   "source": [
    "Посмотрим результат для pagerank с alpha 0.85."
   ]
  },
  {
   "cell_type": "code",
   "execution_count": 9,
   "metadata": {},
   "outputs": [
    {
     "name": "stdout",
     "output_type": "stream",
     "text": [
      "World War I 0.01013336158437887 \n",
      " https://en.wikipedia.org/wiki/World_War_I \n",
      " World War I (WWI or WW1), also known as the First World War, the Great War, or the War to End All Wars, was a global war originating in Europe that lasted from 28 July 1914 to 11 November 1918. More than 70 million military personnel, including 60 million... \n",
      "\n",
      "Vancouver 0.00467739744907636 \n",
      " https://en.wikipedia.org/wiki/Vancouver \n",
      " Vancouver (i/vænˈkuːvər/) is a coastal seaport city in Canada, located in the Lower Mainland region of British Columbia. As the most populous city in the province, the 2016 census recorded 631,486 people in the city, up from 603,502 in 2011. The Greater V... \n",
      "\n",
      "Madrid 0.004660475002208046 \n",
      " https://en.wikipedia.org/wiki/Madrid \n",
      " Madrid (/məˈdrɪd/, Spanish: [maˈðɾið], locally: [maˈðɾi(θ)]) is the capital city of the Kingdom of Spain and the largest municipality in both the Community of Madrid and Spain as a whole. The city has a population of almost 3.2 million[4] with a metropoli... \n",
      "\n",
      "Spanish language 0.004106868438680816 \n",
      " https://en.wikipedia.org/wiki/Spanish_language \n",
      " Spanish (i/ˈspænᵻʃ/,  español (help·info))—also called Castilian[4] (i/kæˈstɪliən/,  castellano (help·info))—is a Romance language that originated in the Castile region of Spain, with hundreds of millions of native speakers around the world. It is usually... \n",
      "\n",
      "Computer 0.004024581926916887 \n",
      " https://en.wikipedia.org/wiki/Computer \n",
      " A computer is a device that can be instructed to carry out an arbitrary set of arithmetic or logical operations automatically. The ability of computers to follow a sequence of operations, called a program, make computers very applicable to a wide range of... \n",
      "\n",
      "British Columbia 0.00281667610162087 \n",
      " https://en.wikipedia.org/wiki/British_Columbia \n",
      " British Columbia (BC) is the westernmost province of Canada, with a population of more than four million people located between the Pacific Ocean and the Rocky Mountains. British Columbia is also a component of the Pacific Northwest and the Cascadia biore... \n",
      "\n",
      "Real number 0.002637730431741956 \n",
      " https://en.wikipedia.org/wiki/Real_number \n",
      " In mathematics, a real number is a value that represents a quantity along a line. The adjective real in this context was introduced in the 17th century by René Descartes, who distinguished between real and imaginary roots of polynomials.... \n",
      "\n",
      "Scheme (programming language) 0.002248461765671888 \n",
      " https://en.wikipedia.org/wiki/Scheme_(programming_language) \n",
      " Scheme is a functional programming language and one of the two main dialects of the programming language Lisp. Unlike Common Lisp, the other main dialect, Scheme follows a minimalist design philosophy specifying a small standard core with powerful tools f... \n",
      "\n",
      "Common Lisp 0.0022441299921555982 \n",
      " https://en.wikipedia.org/wiki/Common_Lisp \n",
      " Common Lisp (CL) is a dialect of the Lisp programming language, published in ANSI standard document ANSI INCITS 226-1994 (R2004) (formerly X3.226-1994 (R1999)).[1] The Common Lisp HyperSpec, a hyperlinked HTML version, has been derived from the ANSI Commo... \n",
      "\n",
      "Ontology 0.002237718838057998 \n",
      " https://en.wikipedia.org/wiki/Ontology \n",
      " Ontology is the philosophical study of the nature of being, becoming, existence or reality as well as the basic categories of being and their relations.[1] Traditionally listed as a part of the major branch of philosophy known as metaphysics, ontology oft... \n",
      "\n"
     ]
    }
   ],
   "source": [
    "render_best_docs(data_item_by_url.keys(), lambda x: pagerank_85[x])"
   ]
  },
  {
   "cell_type": "markdown",
   "metadata": {},
   "source": [
    "alpha 0.95"
   ]
  },
  {
   "cell_type": "code",
   "execution_count": 10,
   "metadata": {},
   "outputs": [
    {
     "name": "stdout",
     "output_type": "stream",
     "text": [
      "World War I 0.010967703414603305 \n",
      " https://en.wikipedia.org/wiki/World_War_I \n",
      " World War I (WWI or WW1), also known as the First World War, the Great War, or the War to End All Wars, was a global war originating in Europe that lasted from 28 July 1914 to 11 November 1918. More than 70 million military personnel, including 60 million... \n",
      "\n",
      "Vancouver 0.006137199523839252 \n",
      " https://en.wikipedia.org/wiki/Vancouver \n",
      " Vancouver (i/vænˈkuːvər/) is a coastal seaport city in Canada, located in the Lower Mainland region of British Columbia. As the most populous city in the province, the 2016 census recorded 631,486 people in the city, up from 603,502 in 2011. The Greater V... \n",
      "\n",
      "Madrid 0.005186563587036977 \n",
      " https://en.wikipedia.org/wiki/Madrid \n",
      " Madrid (/məˈdrɪd/, Spanish: [maˈðɾið], locally: [maˈðɾi(θ)]) is the capital city of the Kingdom of Spain and the largest municipality in both the Community of Madrid and Spain as a whole. The city has a population of almost 3.2 million[4] with a metropoli... \n",
      "\n",
      "Computer 0.0048828905126008905 \n",
      " https://en.wikipedia.org/wiki/Computer \n",
      " A computer is a device that can be instructed to carry out an arbitrary set of arithmetic or logical operations automatically. The ability of computers to follow a sequence of operations, called a program, make computers very applicable to a wide range of... \n",
      "\n",
      "Scheme (programming language) 0.004641995006267765 \n",
      " https://en.wikipedia.org/wiki/Scheme_(programming_language) \n",
      " Scheme is a functional programming language and one of the two main dialects of the programming language Lisp. Unlike Common Lisp, the other main dialect, Scheme follows a minimalist design philosophy specifying a small standard core with powerful tools f... \n",
      "\n",
      "Common Lisp 0.0045346241610311686 \n",
      " https://en.wikipedia.org/wiki/Common_Lisp \n",
      " Common Lisp (CL) is a dialect of the Lisp programming language, published in ANSI standard document ANSI INCITS 226-1994 (R2004) (formerly X3.226-1994 (R1999)).[1] The Common Lisp HyperSpec, a hyperlinked HTML version, has been derived from the ANSI Commo... \n",
      "\n",
      "Spanish language 0.0041972240127544965 \n",
      " https://en.wikipedia.org/wiki/Spanish_language \n",
      " Spanish (i/ˈspænᵻʃ/,  español (help·info))—also called Castilian[4] (i/kæˈstɪliən/,  castellano (help·info))—is a Romance language that originated in the Castile region of Spain, with hundreds of millions of native speakers around the world. It is usually... \n",
      "\n",
      "Amphibian 0.0036770565678472884 \n",
      " https://en.wikipedia.org/wiki/Amphibian \n",
      " Amphibians are ectothermic, tetrapod vertebrates of the class Amphibia. Modern amphibians are all Lissamphibia. They inhabit a wide variety of habitats, with most species living within terrestrial, fossorial, arboreal or freshwater aquatic ecosystems. Thu... \n",
      "\n",
      "British Columbia 0.003506258272931552 \n",
      " https://en.wikipedia.org/wiki/British_Columbia \n",
      " British Columbia (BC) is the westernmost province of Canada, with a population of more than four million people located between the Pacific Ocean and the Rocky Mountains. British Columbia is also a component of the Pacific Northwest and the Cascadia biore... \n",
      "\n",
      "Second Opium War 0.0033108408199267175 \n",
      " https://en.wikipedia.org/wiki/Second_Opium_War \n",
      " The Second Opium War, the Second Anglo-Chinese War, the Second China War, the Arrow War, or the Anglo-French expedition to China,[4] was a war pitting the British Empire and the French Empire against the Qing dynasty of China, lasting from 1856 to 1860.... \n",
      "\n"
     ]
    }
   ],
   "source": [
    "render_best_docs(data_item_by_url.keys(), lambda x: pagerank_95[x])"
   ]
  },
  {
   "cell_type": "markdown",
   "metadata": {},
   "source": [
    "alpha 0.5"
   ]
  },
  {
   "cell_type": "code",
   "execution_count": 11,
   "metadata": {},
   "outputs": [
    {
     "name": "stdout",
     "output_type": "stream",
     "text": [
      "World War I 0.0057472504066078895 \n",
      " https://en.wikipedia.org/wiki/World_War_I \n",
      " World War I (WWI or WW1), also known as the First World War, the Great War, or the War to End All Wars, was a global war originating in Europe that lasted from 28 July 1914 to 11 November 1918. More than 70 million military personnel, including 60 million... \n",
      "\n",
      "Spanish language 0.002618446399378351 \n",
      " https://en.wikipedia.org/wiki/Spanish_language \n",
      " Spanish (i/ˈspænᵻʃ/,  español (help·info))—also called Castilian[4] (i/kæˈstɪliən/,  castellano (help·info))—is a Romance language that originated in the Castile region of Spain, with hundreds of millions of native speakers around the world. It is usually... \n",
      "\n",
      "Madrid 0.002073952462671338 \n",
      " https://en.wikipedia.org/wiki/Madrid \n",
      " Madrid (/məˈdrɪd/, Spanish: [maˈðɾið], locally: [maˈðɾi(θ)]) is the capital city of the Kingdom of Spain and the largest municipality in both the Community of Madrid and Spain as a whole. The city has a population of almost 3.2 million[4] with a metropoli... \n",
      "\n",
      "Vancouver 0.0017489579979054074 \n",
      " https://en.wikipedia.org/wiki/Vancouver \n",
      " Vancouver (i/vænˈkuːvər/) is a coastal seaport city in Canada, located in the Lower Mainland region of British Columbia. As the most populous city in the province, the 2016 census recorded 631,486 people in the city, up from 603,502 in 2011. The Greater V... \n",
      "\n",
      "Computer 0.0016813346421790066 \n",
      " https://en.wikipedia.org/wiki/Computer \n",
      " A computer is a device that can be instructed to carry out an arbitrary set of arithmetic or logical operations automatically. The ability of computers to follow a sequence of operations, called a program, make computers very applicable to a wide range of... \n",
      "\n",
      "Vienna 0.0014851654544216356 \n",
      " https://en.wikipedia.org/wiki/Vienna \n",
      " Vienna (i/viˈɛnə/;[8][9] German: Wien, pronounced [viːn] ( listen)) is the capital and largest city of Austria and one of the nine states of Austria. Vienna is Austria's primary city, with a population of about 1.8 million[1] (2.6 million within the metro... \n",
      "\n",
      "British Columbia 0.0013756698064152373 \n",
      " https://en.wikipedia.org/wiki/British_Columbia \n",
      " British Columbia (BC) is the westernmost province of Canada, with a population of more than four million people located between the Pacific Ocean and the Rocky Mountains. British Columbia is also a component of the Pacific Northwest and the Cascadia biore... \n",
      "\n",
      "George W. Bush 0.0013153611752203405 \n",
      " https://en.wikipedia.org/wiki/George_W._Bush \n",
      " George Walker Bush (born July 6, 1946) is an American politician who served as the 43rd President of the United States from 2001 to 2009. He was also the 46th Governor of Texas from 1995 to 2000. He is the eldest son of Barbara and George H. W. Bush. Afte... \n",
      "\n",
      "Real number 0.0012623333072067976 \n",
      " https://en.wikipedia.org/wiki/Real_number \n",
      " In mathematics, a real number is a value that represents a quantity along a line. The adjective real in this context was introduced in the 17th century by René Descartes, who distinguished between real and imaginary roots of polynomials.... \n",
      "\n",
      "Hinduism 0.0011268074701264047 \n",
      " https://en.wikipedia.org/wiki/Hinduism \n",
      " Hinduism is a religion, or a way of life,[note 1] found most notably in India and Nepal. Hinduism has been called the oldest religion in the world,[note 2] and some practitioners and scholars refer to it as Sanātana Dharma, \"the eternal law,\" or the \"eter... \n",
      "\n"
     ]
    }
   ],
   "source": [
    "render_best_docs(data_item_by_url.keys(), lambda x: pagerank_50[x])"
   ]
  },
  {
   "cell_type": "markdown",
   "metadata": {},
   "source": [
    "alpha 0.3"
   ]
  },
  {
   "cell_type": "code",
   "execution_count": 15,
   "metadata": {},
   "outputs": [
    {
     "name": "stdout",
     "output_type": "stream",
     "text": [
      "World War I 0.0057472504066078895 \n",
      " https://en.wikipedia.org/wiki/World_War_I \n",
      " World War I (WWI or WW1), also known as the First World War, the Great War, or the War to End All Wars, was a global war originating in Europe that lasted from 28 July 1914 to 11 November 1918. More than 70 million military personnel, including 60 million... \n",
      "\n",
      "Spanish language 0.002618446399378351 \n",
      " https://en.wikipedia.org/wiki/Spanish_language \n",
      " Spanish (i/ˈspænᵻʃ/,  español (help·info))—also called Castilian[4] (i/kæˈstɪliən/,  castellano (help·info))—is a Romance language that originated in the Castile region of Spain, with hundreds of millions of native speakers around the world. It is usually... \n",
      "\n",
      "Madrid 0.002073952462671338 \n",
      " https://en.wikipedia.org/wiki/Madrid \n",
      " Madrid (/məˈdrɪd/, Spanish: [maˈðɾið], locally: [maˈðɾi(θ)]) is the capital city of the Kingdom of Spain and the largest municipality in both the Community of Madrid and Spain as a whole. The city has a population of almost 3.2 million[4] with a metropoli... \n",
      "\n",
      "Vancouver 0.0017489579979054074 \n",
      " https://en.wikipedia.org/wiki/Vancouver \n",
      " Vancouver (i/vænˈkuːvər/) is a coastal seaport city in Canada, located in the Lower Mainland region of British Columbia. As the most populous city in the province, the 2016 census recorded 631,486 people in the city, up from 603,502 in 2011. The Greater V... \n",
      "\n",
      "Computer 0.0016813346421790066 \n",
      " https://en.wikipedia.org/wiki/Computer \n",
      " A computer is a device that can be instructed to carry out an arbitrary set of arithmetic or logical operations automatically. The ability of computers to follow a sequence of operations, called a program, make computers very applicable to a wide range of... \n",
      "\n",
      "Vienna 0.0014851654544216356 \n",
      " https://en.wikipedia.org/wiki/Vienna \n",
      " Vienna (i/viˈɛnə/;[8][9] German: Wien, pronounced [viːn] ( listen)) is the capital and largest city of Austria and one of the nine states of Austria. Vienna is Austria's primary city, with a population of about 1.8 million[1] (2.6 million within the metro... \n",
      "\n",
      "British Columbia 0.0013756698064152373 \n",
      " https://en.wikipedia.org/wiki/British_Columbia \n",
      " British Columbia (BC) is the westernmost province of Canada, with a population of more than four million people located between the Pacific Ocean and the Rocky Mountains. British Columbia is also a component of the Pacific Northwest and the Cascadia biore... \n",
      "\n",
      "George W. Bush 0.0013153611752203405 \n",
      " https://en.wikipedia.org/wiki/George_W._Bush \n",
      " George Walker Bush (born July 6, 1946) is an American politician who served as the 43rd President of the United States from 2001 to 2009. He was also the 46th Governor of Texas from 1995 to 2000. He is the eldest son of Barbara and George H. W. Bush. Afte... \n",
      "\n",
      "Real number 0.0012623333072067976 \n",
      " https://en.wikipedia.org/wiki/Real_number \n",
      " In mathematics, a real number is a value that represents a quantity along a line. The adjective real in this context was introduced in the 17th century by René Descartes, who distinguished between real and imaginary roots of polynomials.... \n",
      "\n",
      "Hinduism 0.0011268074701264047 \n",
      " https://en.wikipedia.org/wiki/Hinduism \n",
      " Hinduism is a religion, or a way of life,[note 1] found most notably in India and Nepal. Hinduism has been called the oldest religion in the world,[note 2] and some practitioners and scholars refer to it as Sanātana Dharma, \"the eternal law,\" or the \"eter... \n",
      "\n"
     ]
    }
   ],
   "source": [
    "render_best_docs(data_item_by_url.keys(), lambda x: pagerank_50[x])"
   ]
  },
  {
   "cell_type": "markdown",
   "metadata": {},
   "source": [
    "Ранжируем по хабовости"
   ]
  },
  {
   "cell_type": "code",
   "execution_count": 12,
   "metadata": {},
   "outputs": [
    {
     "name": "stdout",
     "output_type": "stream",
     "text": [
      "Abdülaziz 0.0022164631870778212 \n",
      " https://en.wikipedia.org/wiki/Abd%C3%BClaziz_of_the_Ottoman_Empire \n",
      " Abdülaziz of the Ottoman Empire or Abdülaziz I (Ottoman Turkish: عبد العزيز / `Abdü’l-`Azīz, Turkish: I. Abdülaziz; 9 February 1830 – 4 June 1876) was the 32nd Sultan of the Ottoman Empire and reigned between 25 June 1861 and 30 May 1876.[1] He was the so... \n",
      "\n",
      "United States passport 0.0021848368757340173 \n",
      " https://en.wikipedia.org/wiki/United_States_passport \n",
      " United States passports are passports issued to citizens and non-citizen nationals of the United States of America.[4] They are issued exclusively by the U.S. Department of State.[5] Besides passports (in booklet form), limited use passport cards are issu... \n",
      "\n",
      "United Nations 0.002176406589182112 \n",
      " https://en.wikipedia.org/wiki/U.N. \n",
      " The United Nations (UN) is an intergovernmental organization to promote international co-operation. A replacement for the ineffective League of Nations, the organization was established on 24 October 1945 after World War II in order to prevent another suc... \n",
      "\n",
      "Alois Hába 0.002165134614498297 \n",
      " https://en.wikipedia.org/wiki/Alois_Haba \n",
      " Alois Hába (21 June 1893 – 18 November 1973) was a Czech composer, music theorist and teacher. He belongs to the important discoverers in modern classical music, and major composers of microtonal music, especially using the quarter-tone scale, though he u... \n",
      "\n",
      "Wodzisław Śląski 0.0021650874046524765 \n",
      " https://en.wikipedia.org/wiki/Wodzis%C5%82aw_%C5%9Al%C4%85ski \n",
      " Wodzisław Śląski [vɔˈd͡ʑiswaf ˈɕlɔ̃ski] (German: Loslau, Latin: Vladislavia, Czech: Vladislav, Silesian: Władźisłůw) is a town in Silesian Voivodeship, southern Poland with 50,493 inhabitants (2007). It is the seat of Wodzisław County.... \n",
      "\n",
      "Saint John, U.S. Virgin Islands 0.0021632923099897104 \n",
      " https://en.wikipedia.org/wiki/St._John,_USVI \n",
      " Saint John (Spanish: San Juan ; Dutch: Sint Hans; French: Saint-Jean ; Danish: Sankt Jan) is one of the Virgin Islands in the Caribbean Sea and a constituent district of the United States Virgin Islands (USVI), an unincorporated territory of the United St... \n",
      "\n",
      "Saint John, U.S. Virgin Islands 0.0021632923099897104 \n",
      " https://en.wikipedia.org/wiki/Saint_John,_U.S._Virgin_Islands \n",
      " Saint John (Spanish: San Juan ; Dutch: Sint Hans; French: Saint-Jean ; Danish: Sankt Jan) is one of the Virgin Islands in the Caribbean Sea and a constituent district of the United States Virgin Islands (USVI), an unincorporated territory of the United St... \n",
      "\n",
      "Howitzer 0.0021627072120109364 \n",
      " https://en.wikipedia.org/wiki/Howitzer \n",
      " A howitzer /ˈhaʊw.ɪts.ər/ is a type of artillery piece characterized by a relatively short barrel and the use of comparatively small propellant charges to propel projectiles over relatively high trajectories, with a steep angle of descent.... \n",
      "\n",
      "Saint Thomas, U.S. Virgin Islands 0.002158757079338752 \n",
      " https://en.wikipedia.org/wiki/Saint_Thomas,_U.S._Virgin_Islands \n",
      " Saint Thomas (Spanish: Santo Tomás; Dutch: Sint-Thomas; Danish: Sankt Thomas) is one of the Virgin Islands in the Caribbean Sea and, together with St. John, Water Island and St. Croix, form a county and constituent district of the United States Virgin Isl... \n",
      "\n",
      "İzmir Province 0.00215791220003243 \n",
      " https://en.wikipedia.org/wiki/%C4%B0zmir_Province \n",
      " İzmir Province (Turkish: İzmir ili) is a province of Turkey in western Anatolia on the Aegean coast, whose capital is the city of İzmir. On the west it is surrounded by the Aegean sea, and it encloses the Gulf of İzmir. Its area is 11,973 kilometres (7,44... \n",
      "\n"
     ]
    }
   ],
   "source": [
    "render_best_docs(data_item_by_url.keys(), lambda x: hits_hub[x])"
   ]
  },
  {
   "cell_type": "markdown",
   "metadata": {},
   "source": [
    "По авторитетности"
   ]
  },
  {
   "cell_type": "code",
   "execution_count": 13,
   "metadata": {},
   "outputs": [
    {
     "name": "stdout",
     "output_type": "stream",
     "text": [
      "World War I 0.2661379638687345 \n",
      " https://en.wikipedia.org/wiki/World_War_I \n",
      " World War I (WWI or WW1), also known as the First World War, the Great War, or the War to End All Wars, was a global war originating in Europe that lasted from 28 July 1914 to 11 November 1918. More than 70 million military personnel, including 60 million... \n",
      "\n",
      "Vienna 0.011149644537835344 \n",
      " https://en.wikipedia.org/wiki/Vienna \n",
      " Vienna (i/viˈɛnə/;[8][9] German: Wien, pronounced [viːn] ( listen)) is the capital and largest city of Austria and one of the nine states of Austria. Vienna is Austria's primary city, with a population of about 1.8 million[1] (2.6 million within the metro... \n",
      "\n",
      "Spanish language 0.01014410754131599 \n",
      " https://en.wikipedia.org/wiki/Spanish_language \n",
      " Spanish (i/ˈspænᵻʃ/,  español (help·info))—also called Castilian[4] (i/kæˈstɪliən/,  castellano (help·info))—is a Romance language that originated in the Castile region of Spain, with hundreds of millions of native speakers around the world. It is usually... \n",
      "\n",
      "Turkish language 0.009484576073610135 \n",
      " https://en.wikipedia.org/wiki/Turkish_language \n",
      " Turkish ( Türkçe (help·info)), also referred to as Istanbul Turkish, is the most widely spoken of the Turkic languages, with around 10–15 million native speakers in Southeast Europe (mostly in East and Western Thrace) and 60–65 million native speakers in ... \n",
      "\n",
      "Battle of the Somme 0.006146711856423909 \n",
      " https://en.wikipedia.org/wiki/Battle_of_the_Somme \n",
      " The Battle of the Somme (French: Bataille de la Somme, German: Schlacht an der Somme), also known as the Somme Offensive, was a battle of the First World War fought by the armies of the British and French empires against the German Empire. It took place b... \n",
      "\n",
      "Czech language 0.005578204061348207 \n",
      " https://en.wikipedia.org/wiki/Czech_language \n",
      " Czech (/ˈtʃɛk/; čeština Czech pronunciation: [ˈt͡ʃɛʃcɪna]), historically also Bohemian[5] (/boʊˈhiːmiən, bə-/;[6] lingua Bohemica in Latin), is a West Slavic language of the Czech–Slovak group.[5] It is spoken by over 10 million people and is the official... \n",
      "\n",
      "George W. Bush 0.004730605562344892 \n",
      " https://en.wikipedia.org/wiki/George_W._Bush \n",
      " George Walker Bush (born July 6, 1946) is an American politician who served as the 43rd President of the United States from 2001 to 2009. He was also the 46th Governor of Texas from 1995 to 2000. He is the eldest son of Barbara and George H. W. Bush. Afte... \n",
      "\n",
      "Turkish War of Independence 0.004399590353664622 \n",
      " https://en.wikipedia.org/wiki/Turkish_War_of_Independence \n",
      " The Turkish War of Independence (Turkish: Kurtuluş Savaşı \"War of Liberation\", also known figuratively as İstiklâl Harbi \"Independence War\" or Millî Mücadele \"National Campaign\"; May 19, 1919 – July 24, 1923) was fought between the Turkish National Moveme... \n",
      "\n",
      "British Columbia 0.004331274667425338 \n",
      " https://en.wikipedia.org/wiki/British_Columbia \n",
      " British Columbia (BC) is the westernmost province of Canada, with a population of more than four million people located between the Pacific Ocean and the Rocky Mountains. British Columbia is also a component of the Pacific Northwest and the Cascadia biore... \n",
      "\n",
      "United States Department of State 0.00424447365971675 \n",
      " https://en.wikipedia.org/wiki/United_States_Department_of_State \n",
      " The United States Department of State (DOS),[3] often referred to as the State Department, is the United States federal executive department that advises the President and leads the country in foreign policy issues.[4] Equivalent to the foreign ministry o... \n",
      "\n"
     ]
    }
   ],
   "source": [
    "render_best_docs(data_item_by_url.keys(), lambda x: hits_authority[x])"
   ]
  },
  {
   "cell_type": "markdown",
   "metadata": {},
   "source": [
    "По среднему между хабовостью и авторитетностью"
   ]
  },
  {
   "cell_type": "code",
   "execution_count": 14,
   "metadata": {},
   "outputs": [
    {
     "name": "stdout",
     "output_type": "stream",
     "text": [
      "World War I 0.13306898193436725 \n",
      " https://en.wikipedia.org/wiki/World_War_I \n",
      " World War I (WWI or WW1), also known as the First World War, the Great War, or the War to End All Wars, was a global war originating in Europe that lasted from 28 July 1914 to 11 November 1918. More than 70 million military personnel, including 60 million... \n",
      "\n",
      "Vienna 0.006614863252184628 \n",
      " https://en.wikipedia.org/wiki/Vienna \n",
      " Vienna (i/viˈɛnə/;[8][9] German: Wien, pronounced [viːn] ( listen)) is the capital and largest city of Austria and one of the nine states of Austria. Vienna is Austria's primary city, with a population of about 1.8 million[1] (2.6 million within the metro... \n",
      "\n",
      "Spanish language 0.005079126906266987 \n",
      " https://en.wikipedia.org/wiki/Spanish_language \n",
      " Spanish (i/ˈspænᵻʃ/,  español (help·info))—also called Castilian[4] (i/kæˈstɪliən/,  castellano (help·info))—is a Romance language that originated in the Castile region of Spain, with hundreds of millions of native speakers around the world. It is usually... \n",
      "\n",
      "Turkish language 0.0047422880368050676 \n",
      " https://en.wikipedia.org/wiki/Turkish_language \n",
      " Turkish ( Türkçe (help·info)), also referred to as Istanbul Turkish, is the most widely spoken of the Turkic languages, with around 10–15 million native speakers in Southeast Europe (mostly in East and Western Thrace) and 60–65 million native speakers in ... \n",
      "\n",
      "Turkish War of Independence 0.0032619877764836053 \n",
      " https://en.wikipedia.org/wiki/Turkish_War_of_Independence \n",
      " The Turkish War of Independence (Turkish: Kurtuluş Savaşı \"War of Liberation\", also known figuratively as İstiklâl Harbi \"Independence War\" or Millî Mücadele \"National Campaign\"; May 19, 1919 – July 24, 1923) was fought between the Turkish National Moveme... \n",
      "\n",
      "Battle of the Somme 0.0030804176250604346 \n",
      " https://en.wikipedia.org/wiki/Battle_of_the_Somme \n",
      " The Battle of the Somme (French: Bataille de la Somme, German: Schlacht an der Somme), also known as the Somme Offensive, was a battle of the First World War fought by the armies of the British and French empires against the German Empire. It took place b... \n",
      "\n",
      "Communism 0.0030006567976064266 \n",
      " https://en.wikipedia.org/wiki/Communist \n",
      " In political and social sciences, communism (from Latin communis, \"common, universal\")[1][2] is the philosophical, social, political, and economic ideology and movement whose ultimate goal is the establishment of the communist society, which is a socioeco... \n",
      "\n",
      "Czech language 0.0028865523333923434 \n",
      " https://en.wikipedia.org/wiki/Czech_language \n",
      " Czech (/ˈtʃɛk/; čeština Czech pronunciation: [ˈt͡ʃɛʃcɪna]), historically also Bohemian[5] (/boʊˈhiːmiən, bə-/;[6] lingua Bohemica in Latin), is a West Slavic language of the Czech–Slovak group.[5] It is spoken by over 10 million people and is the official... \n",
      "\n",
      "Colonel (United States) 0.002622971497012802 \n",
      " https://en.wikipedia.org/wiki/Colonel_(United_States) \n",
      " In the United States Army, Marine Corps, and Air Force, colonel /ˈkɜːrnəl/ is the most senior field grade military officer rank, immediately above the rank of lieutenant colonel and immediately below the rank of brigadier general. It is equivalent to the ... \n",
      "\n",
      "Treaty of Lausanne 0.0026227253160911153 \n",
      " https://en.wikipedia.org/wiki/Treaty_of_Lausanne \n",
      " The Treaty of Lausanne (French: Traité de Lausanne) was a peace treaty signed in Lausanne, Switzerland, on 24 July 1923. It officially settled the conflict that had originally existed between the Ottoman Empire and the Allied British Empire, French Republ... \n",
      "\n"
     ]
    }
   ],
   "source": [
    "render_best_docs(data_item_by_url.keys(), lambda x: (hits_hub[x] + hits_authority[x]) / 2)"
   ]
  },
  {
   "cell_type": "markdown",
   "metadata": {},
   "source": [
    "Видно, что различия на разных значениях alpha в pagerank есть, но они не значительные. Чем больше alpha, тем выше компьютерная тематика в топе. При этом ранжирование по хабовости сильно отличается, зачастую документы из топа содержат много ссылок. При этом ранжирование по авторитетности похоже на ранжирование по pagerank, а комбинация хабовости и авторитетности работает похоже на ранжирование только по авторитетности, так как топы имеют разный масштаб (значения авторитетности заметно выше хабовости)."
   ]
  }
 ],
 "metadata": {
  "kernelspec": {
   "display_name": "Python 3",
   "language": "python",
   "name": "python3"
  },
  "language_info": {
   "codemirror_mode": {
    "name": "ipython",
    "version": 3
   },
   "file_extension": ".py",
   "mimetype": "text/x-python",
   "name": "python",
   "nbconvert_exporter": "python",
   "pygments_lexer": "ipython3",
   "version": "3.5.2"
  }
 },
 "nbformat": 4,
 "nbformat_minor": 2
}
